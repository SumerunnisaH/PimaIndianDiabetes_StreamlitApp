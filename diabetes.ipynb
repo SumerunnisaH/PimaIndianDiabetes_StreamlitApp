{
 "cells": [
  {
   "cell_type": "code",
   "execution_count": 2,
   "id": "5a476454",
   "metadata": {},
   "outputs": [],
   "source": [
    "import bamboolib as bam"
   ]
  },
  {
   "cell_type": "code",
   "execution_count": 3,
   "id": "9117c157",
   "metadata": {},
   "outputs": [],
   "source": [
    "import pandas as pd\n",
    "import numpy as np"
   ]
  },
  {
   "cell_type": "code",
   "execution_count": 4,
   "id": "a93241dd",
   "metadata": {},
   "outputs": [],
   "source": [
    "df=pd.read_csv('C:/Users/ELCOT/Desktop/Mini_project/miniProject.csv')"
   ]
  },
  {
   "cell_type": "code",
   "execution_count": 4,
   "id": "787c13df",
   "metadata": {},
   "outputs": [
    {
     "data": {
      "application/vnd.jupyter.widget-view+json": {
       "model_id": "bb27efd35fa543c2bdff2d33401d49c1"
      },
      "text/plain": [
       "     Pregnancies  Glucose  BloodPressure  SkinThickness  Insulin   BMI  \\\n",
       "0              6      148             72             35        0  33.6   \n",
       "1              1       85             66             29        0  26.6   \n",
       "2              8      183             64              0        0  23.3   \n",
       "3              1       89             66             23       94  28.1   \n",
       "4              0      137             40             35      168  43.1   \n",
       "..           ...      ...            ...            ...      ...   ...   \n",
       "763           10      101             76             48      180  32.9   \n",
       "764            2      122             70             27        0  36.8   \n",
       "765            5      121             72             23      112  26.2   \n",
       "766            1      126             60              0        0  30.1   \n",
       "767            1       93             70             31        0  30.4   \n",
       "\n",
       "     DiabetesPedigreeFunction  Age  Outcome  \n",
       "0                       0.627   50        1  \n",
       "1                       0.351   31        0  \n",
       "2                       0.672   32        1  \n",
       "3                       0.167   21        0  \n",
       "4                       2.288   33        1  \n",
       "..                        ...  ...      ...  \n",
       "763                     0.171   63        0  \n",
       "764                     0.340   27        0  \n",
       "765                     0.245   30        0  \n",
       "766                     0.349   47        1  \n",
       "767                     0.315   23        0  \n",
       "\n",
       "[768 rows x 9 columns]"
      ]
     },
     "metadata": {},
     "output_type": "display_data"
    }
   ],
   "source": [
    "df"
   ]
  },
  {
   "cell_type": "code",
   "execution_count": 5,
   "id": "c77df3f8",
   "metadata": {},
   "outputs": [],
   "source": [
    "df['Outcome']=df['Outcome'].astype(object)"
   ]
  },
  {
   "cell_type": "code",
   "execution_count": 6,
   "id": "8be61d59",
   "metadata": {},
   "outputs": [],
   "source": [
    "df['insulin_ml']=np.where((df['Insulin']<=30),'lowml',\n",
    "           np.where((df['Insulin']>30)&(df['Insulin']<=35),\"normalml\",\n",
    "           \"highml\"))\n",
    "df['bp']=np.where((df['BloodPressure']<=60),'lowbp',\n",
    "           np.where((df['BloodPressure']>60)&(df['BloodPressure']<=80),\"normalbp\",\n",
    "           \"highbp\"))\n",
    "df['level_glucose']=np.where((df['Glucose']<=90),'low',\n",
    "           np.where((df['Glucose']>90)&(df['Glucose']>110),\"normal\",\n",
    "           \"high\"))"
   ]
  },
  {
   "cell_type": "code",
   "execution_count": 8,
   "id": "6244a0fb",
   "metadata": {},
   "outputs": [],
   "source": [
    "df['insulin_ml']=df['insulin_ml'].astype(object)\n",
    "df['level_glucose']=df['level_glucose'].astype(object)\n",
    "df['bp']=df['bp'].astype(object)"
   ]
  },
  {
   "cell_type": "code",
   "execution_count": 9,
   "id": "23e921e1",
   "metadata": {},
   "outputs": [
    {
     "data": {
      "application/vnd.jupyter.widget-view+json": {
       "model_id": "bbbba6df1e344305a141c041e867b0de"
      },
      "text/plain": [
       "     Pregnancies  Glucose  BloodPressure  SkinThickness  Insulin   BMI  \\\n",
       "0              6      148             72             35        0  33.6   \n",
       "1              1       85             66             29        0  26.6   \n",
       "2              8      183             64              0        0  23.3   \n",
       "3              1       89             66             23       94  28.1   \n",
       "4              0      137             40             35      168  43.1   \n",
       "..           ...      ...            ...            ...      ...   ...   \n",
       "763           10      101             76             48      180  32.9   \n",
       "764            2      122             70             27        0  36.8   \n",
       "765            5      121             72             23      112  26.2   \n",
       "766            1      126             60              0        0  30.1   \n",
       "767            1       93             70             31        0  30.4   \n",
       "\n",
       "     DiabetesPedigreeFunction  Age Outcome insulin_ml        bp level_glucose  \n",
       "0                       0.627   50       1      lowml  normalbp        normal  \n",
       "1                       0.351   31       0      lowml  normalbp           low  \n",
       "2                       0.672   32       1      lowml  normalbp        normal  \n",
       "3                       0.167   21       0     highml  normalbp           low  \n",
       "4                       2.288   33       1     highml     lowbp        normal  \n",
       "..                        ...  ...     ...        ...       ...           ...  \n",
       "763                     0.171   63       0     highml  normalbp          high  \n",
       "764                     0.340   27       0      lowml  normalbp        normal  \n",
       "765                     0.245   30       0     highml  normalbp        normal  \n",
       "766                     0.349   47       1      lowml     lowbp        normal  \n",
       "767                     0.315   23       0      lowml  normalbp          high  \n",
       "\n",
       "[768 rows x 12 columns]"
      ]
     },
     "metadata": {},
     "output_type": "display_data"
    }
   ],
   "source": [
    "df"
   ]
  },
  {
   "cell_type": "code",
   "execution_count": 1,
   "id": "e30ea0e4",
   "metadata": {},
   "outputs": [
    {
     "ename": "NameError",
     "evalue": "name 'df' is not defined",
     "output_type": "error",
     "traceback": [
      "\u001b[1;31m---------------------------------------------------------------------------\u001b[0m",
      "\u001b[1;31mNameError\u001b[0m                                 Traceback (most recent call last)",
      "\u001b[1;32m~\\AppData\\Local\\Temp\\ipykernel_2216\\3437826779.py\u001b[0m in \u001b[0;36m<module>\u001b[1;34m\u001b[0m\n\u001b[1;32m----> 1\u001b[1;33m \u001b[0mdf\u001b[0m\u001b[1;33m\u001b[0m\u001b[1;33m\u001b[0m\u001b[0m\n\u001b[0m",
      "\u001b[1;31mNameError\u001b[0m: name 'df' is not defined"
     ]
    }
   ],
   "source": [
    "df\n"
   ]
  }
 ],
 "metadata": {
  "kernelspec": {
   "display_name": "Python 3 (ipykernel)",
   "language": "python",
   "name": "python3"
  },
  "language_info": {
   "codemirror_mode": {
    "name": "ipython",
    "version": 3
   },
   "file_extension": ".py",
   "mimetype": "text/x-python",
   "name": "python",
   "nbconvert_exporter": "python",
   "pygments_lexer": "ipython3",
   "version": "3.9.13"
  }
 },
 "nbformat": 4,
 "nbformat_minor": 5
}
